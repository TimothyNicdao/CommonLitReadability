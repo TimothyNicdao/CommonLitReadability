{
 "cells": [
  {
   "cell_type": "markdown",
   "id": "dedicated-championship",
   "metadata": {
    "_cell_guid": "b1076dfc-b9ad-4769-8c92-a6c4dae69d19",
    "_uuid": "8f2839f25d086af736a60e9eeb907d3b93b6e0e5",
    "papermill": {
     "duration": 0.016809,
     "end_time": "2021-07-12T22:46:48.374727",
     "exception": false,
     "start_time": "2021-07-12T22:46:48.357918",
     "status": "completed"
    },
    "tags": []
   },
   "source": [
    " This Python 3 environment comes with many helpful analytics libraries installed\n",
    " It is defined by the kaggle/python Docker image: https://github.com/kaggle/docker-python\n",
    " For example, here's several helpful packages to load\n",
    "\n",
    "import numpy as np # linear algebra\n",
    "import pandas as pd # data processing, CSV file I/O (e.g. pd.read_csv)\n",
    "\n",
    " Input data files are available in the read-only \"../input/\" directory\n",
    " For example, running this (by clicking run or pressing Shift+Enter) will list all files under the input directory\n",
    "\n",
    "import os\n",
    "for dirname, _, filenames in os.walk('/kaggle/input'):\n",
    "    for filename in filenames:\n",
    "        print(os.path.join(dirname, filename))\n",
    "\n",
    " You can write up to 20GB to the current directory (/kaggle/working/) that gets preserved as output when you create a version using \"Save & Run All\"  You can also write temporary files to /kaggle/temp/, but they won't be saved outside of the current session"
   ]
  },
  {
   "cell_type": "code",
   "execution_count": 1,
   "id": "irish-glory",
   "metadata": {
    "execution": {
     "iopub.execute_input": "2021-07-12T22:46:48.413824Z",
     "iopub.status.busy": "2021-07-12T22:46:48.412846Z",
     "iopub.status.idle": "2021-07-12T22:46:48.414821Z",
     "shell.execute_reply": "2021-07-12T22:46:48.414334Z",
     "shell.execute_reply.started": "2021-07-12T22:32:11.500982Z"
    },
    "jupyter": {
     "source_hidden": true
    },
    "papermill": {
     "duration": 0.024259,
     "end_time": "2021-07-12T22:46:48.414948",
     "exception": false,
     "start_time": "2021-07-12T22:46:48.390689",
     "status": "completed"
    },
    "tags": []
   },
   "outputs": [],
   "source": [
    "# # for TPU\n",
    "# !curl https://raw.githubusercontent.com/pytorch/xla/master/contrib/scripts/env-setup.py -o pytorch-xla-env-setup.py\n",
    "# !python pytorch-xla-env-setup.py --apt-packages libomp5 libopenblas-dev\n",
    "\n",
    "# # !pip install '../input/textstat-pypi/Pyphen-0.9.3-py2.py3-none-any.whl'\n",
    "# # !pip install '../input/textstat-pypi/textstat-0.7.0-py3-none-any.whl'\n",
    "# # from textstat.textstat import textstatistics,legacy_round\n"
   ]
  },
  {
   "cell_type": "code",
   "execution_count": 2,
   "id": "approximate-arthritis",
   "metadata": {
    "execution": {
     "iopub.execute_input": "2021-07-12T22:46:48.449665Z",
     "iopub.status.busy": "2021-07-12T22:46:48.448985Z",
     "iopub.status.idle": "2021-07-12T22:46:48.452559Z",
     "shell.execute_reply": "2021-07-12T22:46:48.452121Z",
     "shell.execute_reply.started": "2021-07-12T22:32:11.511085Z"
    },
    "jupyter": {
     "source_hidden": true
    },
    "papermill": {
     "duration": 0.021937,
     "end_time": "2021-07-12T22:46:48.452664",
     "exception": false,
     "start_time": "2021-07-12T22:46:48.430727",
     "status": "completed"
    },
    "tags": []
   },
   "outputs": [],
   "source": [
    "# #  XLA \n",
    "\n",
    "# import torch_xla\n",
    "# import torch_xla.debug.metrics as met\n",
    "# import torch_xla.distributed.parallel_loader as pl\n",
    "# import torch_xla.utils.utils as xu\n",
    "# import torch_xla.core.xla_model as xm\n",
    "# import torch_xla.distributed.xla_multiprocessing as xmp\n",
    "# import torch_xla.test.test_utils as test_utils\n"
   ]
  },
  {
   "cell_type": "markdown",
   "id": "later-parish",
   "metadata": {
    "papermill": {
     "duration": 0.015362,
     "end_time": "2021-07-12T22:46:48.483371",
     "exception": false,
     "start_time": "2021-07-12T22:46:48.468009",
     "status": "completed"
    },
    "tags": []
   },
   "source": [
    "# Load Libraries"
   ]
  },
  {
   "cell_type": "code",
   "execution_count": 3,
   "id": "retired-edwards",
   "metadata": {
    "execution": {
     "iopub.execute_input": "2021-07-12T22:46:48.525286Z",
     "iopub.status.busy": "2021-07-12T22:46:48.524614Z",
     "iopub.status.idle": "2021-07-12T22:46:53.206471Z",
     "shell.execute_reply": "2021-07-12T22:46:53.205343Z",
     "shell.execute_reply.started": "2021-07-12T22:32:11.521693Z"
    },
    "papermill": {
     "duration": 4.707486,
     "end_time": "2021-07-12T22:46:53.206601",
     "exception": false,
     "start_time": "2021-07-12T22:46:48.499115",
     "status": "completed"
    },
    "tags": []
   },
   "outputs": [],
   "source": [
    "import numpy as np \n",
    "import pandas as pd\n",
    "import math\n",
    "\n",
    "import torch\n",
    "from torch import nn\n",
    "import torch.nn.functional as F\n",
    "from torch.nn import TransformerEncoder, TransformerEncoderLayer\n",
    "from torch.utils.data import DataLoader, Dataset\n",
    "from collections import Counter\n",
    "from torch.nn.utils.rnn import pad_sequence\n",
    "from torchvision.transforms import ToTensor, Lambda, Compose\n",
    "import matplotlib.pyplot as plt\n",
    "\n",
    "from sklearn.model_selection  import train_test_split\n",
    "from sklearn.model_selection import KFold\n",
    "\n",
    "\n",
    "from transformers import AutoModel, AutoTokenizer, BertTokenizer, AutoConfig\n",
    "\n",
    "import itertools\n",
    "import gc\n",
    "import os \n",
    "import random\n",
    "\n",
    "import spacy\n",
    "import time\n",
    "import timeit"
   ]
  },
  {
   "cell_type": "code",
   "execution_count": 4,
   "id": "duplicate-fashion",
   "metadata": {
    "execution": {
     "iopub.execute_input": "2021-07-12T22:46:53.244750Z",
     "iopub.status.busy": "2021-07-12T22:46:53.244108Z",
     "iopub.status.idle": "2021-07-12T22:46:53.249696Z",
     "shell.execute_reply": "2021-07-12T22:46:53.250135Z",
     "shell.execute_reply.started": "2021-07-12T22:32:11.531872Z"
    },
    "jupyter": {
     "source_hidden": true
    },
    "papermill": {
     "duration": 0.027063,
     "end_time": "2021-07-12T22:46:53.250272",
     "exception": false,
     "start_time": "2021-07-12T22:46:53.223209",
     "status": "completed"
    },
    "tags": []
   },
   "outputs": [],
   "source": [
    "def seed_everything(seed=1234):\n",
    "    random.seed(seed)\n",
    "    os.environ['PYTHONHASHSEED'] = str(seed)\n",
    "    np.random.seed(seed)\n",
    "    torch.manual_seed(seed)\n",
    "    torch.cuda.manual_seed(seed)\n",
    "    torch.backends.cudnn.deterministic = True\n",
    "seed_everything(seed=1326)"
   ]
  },
  {
   "cell_type": "markdown",
   "id": "three-mystery",
   "metadata": {
    "papermill": {
     "duration": 0.016002,
     "end_time": "2021-07-12T22:46:53.282414",
     "exception": false,
     "start_time": "2021-07-12T22:46:53.266412",
     "status": "completed"
    },
    "tags": []
   },
   "source": [
    "# HyperParameters"
   ]
  },
  {
   "cell_type": "code",
   "execution_count": 5,
   "id": "bibliographic-james",
   "metadata": {
    "execution": {
     "iopub.execute_input": "2021-07-12T22:46:53.360259Z",
     "iopub.status.busy": "2021-07-12T22:46:53.359722Z",
     "iopub.status.idle": "2021-07-12T22:46:53.363596Z",
     "shell.execute_reply": "2021-07-12T22:46:53.363116Z",
     "shell.execute_reply.started": "2021-07-12T22:32:11.543504Z"
    },
    "papermill": {
     "duration": 0.065173,
     "end_time": "2021-07-12T22:46:53.363714",
     "exception": false,
     "start_time": "2021-07-12T22:46:53.298541",
     "status": "completed"
    },
    "tags": []
   },
   "outputs": [],
   "source": [
    "device = torch.device(\"cuda\" if torch.cuda.is_available() else \"cpu\")\n",
    "# # for TPU\n",
    "# device = xm.xla_device()\n",
    "# torch.set_default_tensor_type('torch.FloatTensor')\n",
    "\n",
    "batch_size = 16\n",
    "epochs = 15 # The number of epochs\n",
    "embedding_dim = 300\n",
    "MODEL_NAME =  '../input/huggingface-roberta-variants/distilroberta-base/distilroberta-base'\n",
    "# MODEL_NAME2 =  '../input/huggingface-roberta-variants/roberta-base/roberta-base'\n",
    "\n",
    "# ../input/huggingface-bert/bert-base-cased\n",
    "MODEL_NAME2 = None\n",
    "useFeatures = False"
   ]
  },
  {
   "cell_type": "markdown",
   "id": "radical-small",
   "metadata": {
    "_kg_hide-input": false,
    "papermill": {
     "duration": 0.016056,
     "end_time": "2021-07-12T22:46:53.396117",
     "exception": false,
     "start_time": "2021-07-12T22:46:53.380061",
     "status": "completed"
    },
    "tags": []
   },
   "source": [
    "# load dataframe"
   ]
  },
  {
   "cell_type": "code",
   "execution_count": 6,
   "id": "original-aaron",
   "metadata": {
    "execution": {
     "iopub.execute_input": "2021-07-12T22:46:53.437650Z",
     "iopub.status.busy": "2021-07-12T22:46:53.436941Z",
     "iopub.status.idle": "2021-07-12T22:46:53.513697Z",
     "shell.execute_reply": "2021-07-12T22:46:53.513035Z",
     "shell.execute_reply.started": "2021-07-12T22:32:11.550320Z"
    },
    "papermill": {
     "duration": 0.101991,
     "end_time": "2021-07-12T22:46:53.513853",
     "exception": false,
     "start_time": "2021-07-12T22:46:53.411862",
     "status": "completed"
    },
    "tags": []
   },
   "outputs": [],
   "source": [
    "datadir = '/kaggle/input/commonlitreadabilityprize'\n",
    "traindir = datadir + '/train.csv'\n",
    "df = pd.read_csv('../input/commonlitfeatures/trainData_ReadabilityFeatures.csv').sample(frac = 1)"
   ]
  },
  {
   "cell_type": "code",
   "execution_count": 7,
   "id": "mechanical-migration",
   "metadata": {
    "execution": {
     "iopub.execute_input": "2021-07-12T22:46:53.554801Z",
     "iopub.status.busy": "2021-07-12T22:46:53.554077Z",
     "iopub.status.idle": "2021-07-12T22:46:53.556887Z",
     "shell.execute_reply": "2021-07-12T22:46:53.556438Z",
     "shell.execute_reply.started": "2021-07-12T22:32:11.596473Z"
    },
    "jupyter": {
     "source_hidden": true
    },
    "papermill": {
     "duration": 0.025489,
     "end_time": "2021-07-12T22:46:53.557011",
     "exception": false,
     "start_time": "2021-07-12T22:46:53.531522",
     "status": "completed"
    },
    "tags": []
   },
   "outputs": [],
   "source": [
    "def timeit(method):\n",
    "    def timed(*args, **kw):\n",
    "        ts = time.time()\n",
    "        result = method(*args, **kw)\n",
    "        te = time.time()\n",
    "        if 'log_time' in kw:\n",
    "            name = kw.get('log_name', method.__name__.upper())\n",
    "            kw['log_time'][name] = int((te - ts) * 1000)\n",
    "        else:\n",
    "            print(method.__name__, (te - ts) * 1000)\n",
    "        return result\n",
    "    return timed"
   ]
  },
  {
   "cell_type": "code",
   "execution_count": 8,
   "id": "romance-glossary",
   "metadata": {
    "_kg_hide-input": true,
    "_kg_hide-output": true,
    "execution": {
     "iopub.execute_input": "2021-07-12T22:46:53.619187Z",
     "iopub.status.busy": "2021-07-12T22:46:53.609206Z",
     "iopub.status.idle": "2021-07-12T22:46:53.621767Z",
     "shell.execute_reply": "2021-07-12T22:46:53.621185Z",
     "shell.execute_reply.started": "2021-07-12T22:32:11.646350Z"
    },
    "jupyter": {
     "source_hidden": true
    },
    "papermill": {
     "duration": 0.047872,
     "end_time": "2021-07-12T22:46:53.621888",
     "exception": false,
     "start_time": "2021-07-12T22:46:53.574016",
     "status": "completed"
    },
    "tags": []
   },
   "outputs": [],
   "source": [
    "# Readability Features\n",
    "\n",
    "\n",
    "# Splits the text into sentences, using\n",
    "# Spacy's sentence segmentation which can\n",
    "# be found at https://spacy.io/usage/spacy-101\n",
    "def break_sentences(text):\n",
    "    nlp = spacy.load('en_core_web_sm')\n",
    "    doc = nlp(text)\n",
    "    return list(doc.sents)\n",
    " \n",
    "# Returns Number of Words in the text\n",
    "def word_count(sentences):\n",
    "    words = 0\n",
    "    for sentence in sentences:\n",
    "        words += len([token for token in sentence])\n",
    "    return words\n",
    " \n",
    "# Returns the number of sentences in the text\n",
    "def sentence_count(sentences):\n",
    "    return len(sentences)\n",
    " \n",
    "# Returns average sentence length\n",
    "def avg_sentence_length(sentences, words):\n",
    "    average_length = float(words / sentences)\n",
    "    return average_length\n",
    " \n",
    "# Textstat is a python package, to calculate statistics from\n",
    "# text to determine readability,\n",
    "# complexity and grade level of a particular corpus.\n",
    "# Package can be found at https://pypi.python.org/pypi/textstat\n",
    "def syllables_count(word):\n",
    "    word = str(word)\n",
    "    syllable_count = 0\n",
    "    vowels = 'aeiouy'\n",
    "    if word[0] in vowels:\n",
    "        syllable_count += 1\n",
    "    for index in range(1, len(word)):\n",
    "        if word[index] in vowels and word[index - 1] not in vowels:\n",
    "            syllable_count += 1\n",
    "    if word.endswith('e'):\n",
    "        syllable_count -= 1\n",
    "    if word.endswith('le') and len(word) > 2 and word[-3] not in vowels:\n",
    "        syllable_count += 1\n",
    "    if syllable_count == 0:\n",
    "        syllable_count += 1\n",
    "    return syllable_count\n",
    " \n",
    "# Returns the average number of syllables per\n",
    "# word in the text\n",
    "def avg_syllables_per_word(sentences, words):\n",
    "    syllable = 0\n",
    "    for word in sentences:\n",
    "        syllable += syllables_count(word)\n",
    "    ASPW = float(syllable) / float(words)\n",
    "    return round(ASPW, 1)\n",
    " \n",
    "# Return total Difficult Words in a text\n",
    "def difficult_words(sentences, text):\n",
    "     \n",
    "    nlp = spacy.load('en_core_web_sm')\n",
    "    doc = nlp(text)\n",
    "    # Find all words in the text\n",
    "    words = []\n",
    "    for sentence in sentences:\n",
    "        words += [str(token) for token in sentence]\n",
    " \n",
    "    # difficult words are those with syllables >= 2\n",
    "    # easy_word_set is provide by Textstat as\n",
    "    # a list of common words\n",
    "    diff_words_set = set()\n",
    "     \n",
    "    for word in words:\n",
    "        syllable_count = syllables_count(word)\n",
    "        if word not in nlp.Defaults.stop_words and syllable_count >= 2:\n",
    "            diff_words_set.add(word)\n",
    " \n",
    "    return len(diff_words_set)\n",
    " \n",
    "# A word is polysyllablic if it has more than 3 syllables\n",
    "# this functions returns the number of all such words\n",
    "# present in the text\n",
    "def poly_syllable_count(text):\n",
    "    count = 0\n",
    "    words = []\n",
    "    sentences = break_sentences(text)\n",
    "    for sentence in sentences:\n",
    "        words += [token for token in sentence]\n",
    "     \n",
    " \n",
    "    for word in words:\n",
    "        syllable_count = syllables_count(word)\n",
    "        if syllable_count >= 3:\n",
    "            count += 1\n",
    "    return count\n",
    " \n",
    " \n",
    "def flesch_reading_ease(avg_length , avg_syllables ):\n",
    "    \"\"\"\n",
    "        Implements Flesch Formula:\n",
    "        Reading Ease score = 206.835 - (1.015 × ASL) - (84.6 × ASW)\n",
    "        Here,\n",
    "          ASL = average sentence length (number of words\n",
    "                divided by number of sentences)\n",
    "          ASW = average word length in syllables (number of syllables\n",
    "                divided by number of words)\n",
    "    \"\"\"\n",
    "    FRE = 206.835 - float(1.015 * avg_length) -\\\n",
    "          float(84.6 * avg_syllables)\n",
    "    return round(FRE, 2)\n",
    " \n",
    " \n",
    "def gunning_fog(avgLength, diff, words):\n",
    "    per_diff_words = (diff / words * 100) + 5\n",
    "    grade = 0.4 * (avgLength + per_diff_words)\n",
    "    return grade\n",
    " \n",
    " \n",
    "def smog_index(text):\n",
    "    \"\"\"\n",
    "        Implements SMOG Formula / Grading\n",
    "        SMOG grading = 3 + ?polysyllable count.\n",
    "        Here,\n",
    "           polysyllable count = number of words of more\n",
    "          than two syllables in a sample of 30 sentences.\n",
    "    \"\"\"\n",
    " \n",
    "    if sentence_count(text) >= 3:\n",
    "        poly_syllab = poly_syllable_count(text)\n",
    "        SMOG = (1.043 * (30*(poly_syllab / sentence_count(text)))**0.5) \\\n",
    "                + 3.1291\n",
    "        return round(SMOG, 1)\n",
    "    else:\n",
    "        return 0\n",
    " \n",
    " \n",
    "def dale_chall_readability_score(words, avg_length, diff):\n",
    "    \"\"\"\n",
    "        Implements Dale Challe Formula:\n",
    "        Raw score = 0.1579*(PDW) + 0.0496*(ASL) + 3.6365\n",
    "        Here,\n",
    "            PDW = Percentage of difficult words.\n",
    "            ASL = Average sentence length\n",
    "    \"\"\"\n",
    "    # Number of words not termed as difficult words\n",
    "    count = words - diff\n",
    "    if words > 0:\n",
    " \n",
    "        # Percentage of words not on difficult word list\n",
    " \n",
    "        per = float(count) / float(words) * 100\n",
    "     \n",
    "    # diff_words stores percentage of difficult words\n",
    "    diff_words = 100 - per\n",
    " \n",
    "    raw_score = (0.1579 * diff_words) + \\\n",
    "                (0.0496 * avg_length)\n",
    "     \n",
    "    # If Percentage of Difficult Words is greater than 5 %, then;\n",
    "    # Adjusted Score = Raw Score + 3.6365,\n",
    "    # otherwise Adjusted Score = Raw Score\n",
    " \n",
    "    if diff_words > 5:      \n",
    " \n",
    "        raw_score += 3.6365\n",
    "         \n",
    "    return round(raw_score, 2)\n",
    "\n",
    "\n",
    "\n",
    "def flesch_reading_age(ASL, ASW):\n",
    "    \"\"\"\n",
    "        Implements Flesch-Kincaid Grade Level Formula:\n",
    "        Reading Ease score = (0.39 x ASL) + (11.8 x ASW) - 15.59\n",
    "        Here,\n",
    "          ASL = average sentence length (number of words\n",
    "                divided by number of sentences)\n",
    "          ASW = average word length in syllables (number of syllables\n",
    "                divided by number of words)\n",
    "                \n",
    "    \"\"\"\n",
    "    \n",
    "#     ASL = avg_sentence_length(text)\n",
    "#     ASW = avg_syllables_per_word(text)\n",
    "    \n",
    "    FKRA = (0.39 * ASL) + (11.8 * ASW) - 15.59 \n",
    "    return FKRA\n",
    "\n",
    "\n",
    "\n",
    "# poly_syllable = []\n",
    "# flesch_reading = []\n",
    "# flesch_age = []\n",
    "# gunning = []\n",
    "# smog = []\n",
    "# dale_chall = []\n",
    "# wordCount = []\n",
    "# avgSentenceLength = []\n",
    "# avgSyllable = []\n",
    "\n",
    "\n",
    "@timeit\n",
    "def calculateFeatures(df):\n",
    "    \n",
    "    flesch_reading = []\n",
    "    flesch_age = []\n",
    "    gunning = []\n",
    "    dale_chall = []\n",
    "    wordCount = []\n",
    "    avgSentenceLength = []\n",
    "    avgSyllable = []\n",
    "    \n",
    "    for text in df['excerpt']:\n",
    "        sentences = break_sentences(text)\n",
    "        word_Count = word_count(sentences)\n",
    "        avgLength = avg_sentence_length(len(sentences), word_Count)\n",
    "        diffWords = difficult_words(sentences, text)\n",
    "        avgSyllables = avg_syllables_per_word(sentences, word_Count)\n",
    "        \n",
    "        wordCount.append(word_Count)\n",
    "        avgSentenceLength.append(avgLength)\n",
    "        avgSyllable.append(avgSyllables)\n",
    "        dale_chall.append(dale_chall_readability_score(word_Count,avgSyllables , diffWords ))\n",
    "        flesch_age.append(flesch_reading_age(avgLength,  avgSyllables ))\n",
    "        flesch_reading.append(flesch_reading_ease(avgLength , avgSyllables))\n",
    "        gunning.append(gunning_fog(avgLength, diffWords, word_Count))\n",
    "\n",
    "    df['flesch_age'] = flesch_age\n",
    "    df['flesch_reading'] = flesch_reading\n",
    "    df['wordCount'] = wordCount\n",
    "    df['avgSentenceLength'] = avgSentenceLength\n",
    "    df['avgSentenceSyllable'] = avgSyllable\n",
    "    df['dale_chall'] = dale_chall\n",
    "    df['gunning_fog'] = gunning\n",
    "\n",
    "\n",
    "    \n",
    "    \n",
    "# calculateFeatures(df)\n",
    "# df.head(5)\n",
    "\n",
    "\n",
    "# df.to_csv('trainData_ReadabilityFeatures.csv', index=False)\n",
    "\n",
    "# test_df = test_df['excerpt']\n",
    "# calculateFeatures(test_df)"
   ]
  },
  {
   "cell_type": "markdown",
   "id": "arbitrary-alberta",
   "metadata": {
    "papermill": {
     "duration": 0.016734,
     "end_time": "2021-07-12T22:46:53.655537",
     "exception": false,
     "start_time": "2021-07-12T22:46:53.638803",
     "status": "completed"
    },
    "tags": []
   },
   "source": [
    "# CommonLitDataset"
   ]
  },
  {
   "cell_type": "code",
   "execution_count": 9,
   "id": "second-veteran",
   "metadata": {
    "execution": {
     "iopub.execute_input": "2021-07-12T22:46:53.696588Z",
     "iopub.status.busy": "2021-07-12T22:46:53.695738Z",
     "iopub.status.idle": "2021-07-12T22:46:53.698098Z",
     "shell.execute_reply": "2021-07-12T22:46:53.698481Z",
     "shell.execute_reply.started": "2021-07-12T22:32:11.674389Z"
    },
    "papermill": {
     "duration": 0.026044,
     "end_time": "2021-07-12T22:46:53.698599",
     "exception": false,
     "start_time": "2021-07-12T22:46:53.672555",
     "status": "completed"
    },
    "tags": []
   },
   "outputs": [],
   "source": [
    "class CommonLitDataset(Dataset):\n",
    "    def __init__(self, df):\n",
    "        self.df = df \n",
    "        \n",
    "    def __len__(self):\n",
    "        return len(self.df)\n",
    "    \n",
    "    def __getitem__(self, idx):\n",
    "        label = self.df.iloc[idx][1]\n",
    "        text = self.df.iloc[idx][0]     \n",
    "        if useFeatures:\n",
    "            readability = np.array([x for x in self.df.iloc[idx][2:].values])\n",
    "        else:\n",
    "            readability = torch.zeros((1,7))\n",
    "#         print(readability)\n",
    "#         print(type(readability))\n",
    "#         print(readability.shape)\n",
    "        return text, label, readability\n",
    "    \n",
    "\n",
    "    \n",
    "# train_data = CommonLitDataset(df)\n",
    "# train_dataloader = DataLoader(train_data, batch_size = batch_size, shuffle = True)\n",
    "\n",
    "# val_data = CommonLitDataset(df)\n",
    "# val_dataloader = DataLoader(val_data, batch_size = batch_size, shuffle = True)\n",
    "\n",
    "KFold_data = CommonLitDataset(df)\n"
   ]
  },
  {
   "cell_type": "markdown",
   "id": "cooperative-timothy",
   "metadata": {
    "papermill": {
     "duration": 0.017013,
     "end_time": "2021-07-12T22:46:53.732403",
     "exception": false,
     "start_time": "2021-07-12T22:46:53.715390",
     "status": "completed"
    },
    "tags": []
   },
   "source": [
    "# Transformer Model"
   ]
  },
  {
   "cell_type": "code",
   "execution_count": 10,
   "id": "restricted-spirit",
   "metadata": {
    "execution": {
     "iopub.execute_input": "2021-07-12T22:46:53.775388Z",
     "iopub.status.busy": "2021-07-12T22:46:53.774848Z",
     "iopub.status.idle": "2021-07-12T22:47:05.452697Z",
     "shell.execute_reply": "2021-07-12T22:47:05.452136Z",
     "shell.execute_reply.started": "2021-07-12T22:32:11.688778Z"
    },
    "papermill": {
     "duration": 11.704199,
     "end_time": "2021-07-12T22:47:05.452834",
     "exception": false,
     "start_time": "2021-07-12T22:46:53.748635",
     "status": "completed"
    },
    "tags": []
   },
   "outputs": [
    {
     "name": "stdout",
     "output_type": "stream",
     "text": [
      "768 Features used\n"
     ]
    }
   ],
   "source": [
    "# Store the model we want to use\n",
    "# MODEL_NAME = '/kaggle/input/huggingface-bert/bert-base-cased'\n",
    "\n",
    "\n",
    "class CommonLitModel(nn.Module):\n",
    "    def __init__(self,path, path2 = None):\n",
    "        super(CommonLitModel,self).__init__()\n",
    "        self.config = AutoConfig.from_pretrained(path)\n",
    "        self.config.update({'output_hidden_states':True})\n",
    "        self.bert = AutoModel.from_pretrained(path,output_hidden_states=False)\n",
    "        \n",
    "        if path2:\n",
    "            self.bert2 = AutoModel.from_pretrained(path2, output_hidden_states = False) \n",
    "            self.linear1 = nn.Linear(1536,1536)\n",
    "            self.linear2 = nn.Linear(1536,1)\n",
    "        else:\n",
    "            print('768 Features used')\n",
    "            self.linear1 = nn.Linear(768,768)\n",
    "            self.linear2 = nn.Linear(768,1)\n",
    "            \n",
    "            \n",
    "        self.linear = nn.Linear(775,1)   \n",
    "        self.dropout = nn.Dropout(0.50)\n",
    "        self.lrelu = nn.LeakyReLU()\n",
    "    \n",
    "\n",
    "    def forward(self,xb, x2 = None, readability = None):\n",
    "        x = self.bert(**xb)[1]\n",
    "        if x2:\n",
    "            x1 = self.bert2(**x2)[1]\n",
    "            x = torch.cat((x, x1))\n",
    "#             x = torch.mean(torch.stack([x, x1]))\n",
    "        \n",
    "#         x = self.dropout(x)\n",
    "#         x = self.linear1(x)\n",
    "#         x = self.lrelu(x) \n",
    "#         print(x.size())\n",
    "#         print(readability.size())\n",
    "        if useFeatures:\n",
    "            x = torch.cat((x,readability),1)\n",
    "            x = self.dropout(x)\n",
    "            x = self.linear(x)\n",
    "        else:\n",
    "            x = self.dropout(x)\n",
    "            x = self.linear2(x)\n",
    "        return x\n",
    "    \n",
    "    \n",
    "\n",
    "model = CommonLitModel(MODEL_NAME,MODEL_NAME2).to(device)\n",
    "torch.save(model.state_dict(), 'initialModel')\n",
    "\n",
    "tokenizer = AutoTokenizer.from_pretrained(MODEL_NAME)\n",
    "if MODEL_NAME2:\n",
    "    tokenizer2 = AutoTokenizer.from_pretrained(MODEL_NAME2)"
   ]
  },
  {
   "cell_type": "code",
   "execution_count": 11,
   "id": "cooked-karen",
   "metadata": {
    "execution": {
     "iopub.execute_input": "2021-07-12T22:47:05.502619Z",
     "iopub.status.busy": "2021-07-12T22:47:05.501096Z",
     "iopub.status.idle": "2021-07-12T22:47:05.503429Z",
     "shell.execute_reply": "2021-07-12T22:47:05.503834Z",
     "shell.execute_reply.started": "2021-07-12T22:32:25.141372Z"
    },
    "papermill": {
     "duration": 0.034132,
     "end_time": "2021-07-12T22:47:05.503964",
     "exception": false,
     "start_time": "2021-07-12T22:47:05.469832",
     "status": "completed"
    },
    "tags": []
   },
   "outputs": [],
   "source": [
    "import time\n",
    "\n",
    "bptt = 35\n",
    "\n",
    "criterion = nn.MSELoss()\n",
    "lr = 0.00002 # learning rate\n",
    "optimizer = torch.optim.Adam(model.parameters(), lr=lr, weight_decay= 1e-5)\n",
    "# scheduler = torch.optim.lr_scheduler.StepLR(optimizer, 1, gamma=0.95, verbose = True)\n",
    "scheduler = torch.optim.lr_scheduler.StepLR(optimizer, 1, gamma=0.95)\n",
    "\n",
    "\n",
    "def train(model):\n",
    "    model.train() # Turn on the train mode\n",
    "    return_loss = []\n",
    "    total_loss = 0.\n",
    "    start_time = time.time()\n",
    "#     src_mask = model.generate_square_subsequent_mask(bptt).to(device)\n",
    "    batch = 0\n",
    "    for data, targets, readability in train_loader:\n",
    "        model.train()\n",
    "        optimizer.zero_grad()\n",
    "      \n",
    "        data1 = tokenizer.batch_encode_plus([*data],pad_to_max_length='max_length', return_tensors='pt').to(device)\n",
    "        readability = torch.tensor(readability).float().to(device)\n",
    "        if MODEL_NAME2:\n",
    "            data2 = tokenizer2.batch_encode_plus([*data],pad_to_max_length='max_length', return_tensors='pt').to(device)\n",
    "            final_output = model(data1 ,data2)\n",
    "            \n",
    "        else:\n",
    "            final_output = model(data1 ,None, readability)\n",
    "        targets = targets.float().to(device)\n",
    "        final_output = torch.squeeze(final_output.float())\n",
    "        loss = criterion(final_output, targets)\n",
    "\n",
    "\n",
    "        loss.backward()\n",
    "#         torch.nn.utils.clip_grad_norm_(model.parameters(), 0.5)\n",
    "        optimizer.step()\n",
    "\n",
    "        total_loss += loss.item()\n",
    "        return_loss.append(loss.item())\n",
    "        log_interval = 100\n",
    "        batch += 1\n",
    "#         if batch % log_interval == 0 and batch > 0:\n",
    "#             cur_loss = total_loss / log_interval\n",
    "#             elapsed = time.time() - start_time\n",
    "#             print('| epoch {:3d} | {:5d}/{:5d} batches | '\n",
    "#                   'lr {:02.2f} | ms/batch {:5.2f} | '\n",
    "#                   'loss {:5.2f} | ppl {:8.2f}'.format(\n",
    "#                     epoch, batch, len(train_data) // bptt, scheduler.get_last_lr()[0],\n",
    "#                     elapsed * 1000 / log_interval,\n",
    "#                     cur_loss, np.exp(cur_loss)))\n",
    "        total_loss = 0\n",
    "        start_time = time.time()\n",
    "        \n",
    "    return torch.mean(torch.tensor(return_loss))\n",
    "\n",
    "def evaluate(eval_model):\n",
    "#     losses = []\n",
    "    eval_model.eval() # Turn on the evaluation mode\n",
    "#     total_loss = 0.\n",
    "    total_loss = []\n",
    "    with torch.no_grad():\n",
    "        for data, targets, readability in val_loader:\n",
    "            \n",
    "            data1 = tokenizer.batch_encode_plus([*data],pad_to_max_length='max_length', return_tensors='pt').to(device)\n",
    "            readability = torch.tensor(readability).float().to(device)\n",
    "            if MODEL_NAME2:\n",
    "                data2 = tokenizer2.batch_encode_plus([*data],pad_to_max_length='max_length', return_tensors='pt').to(device)\n",
    "                final_output = model(data1 ,data2)\n",
    "            else:\n",
    "                final_output = model(data1 , None, readability)\n",
    "            targets = targets.float().to(device)\n",
    "            final_output = torch.squeeze(final_output.float())\n",
    "#             loss = criterion(final_output, targets)\n",
    "            currLoss = criterion(final_output, targets).item()\n",
    "#             total_loss += len(data) * currLoss\n",
    "            total_loss.append(currLoss)\n",
    "\n",
    "#     return total_loss\n",
    "    return torch.mean(torch.tensor(total_loss))"
   ]
  },
  {
   "cell_type": "markdown",
   "id": "sticky-tattoo",
   "metadata": {
    "papermill": {
     "duration": 0.016265,
     "end_time": "2021-07-12T22:47:05.536413",
     "exception": false,
     "start_time": "2021-07-12T22:47:05.520148",
     "status": "completed"
    },
    "tags": []
   },
   "source": [
    "# Regular Split"
   ]
  },
  {
   "cell_type": "code",
   "execution_count": 12,
   "id": "treated-tribute",
   "metadata": {
    "execution": {
     "iopub.execute_input": "2021-07-12T22:47:05.572864Z",
     "iopub.status.busy": "2021-07-12T22:47:05.572081Z",
     "iopub.status.idle": "2021-07-12T22:47:05.574728Z",
     "shell.execute_reply": "2021-07-12T22:47:05.574330Z",
     "shell.execute_reply.started": "2021-07-12T22:32:25.159617Z"
    },
    "jupyter": {
     "source_hidden": true
    },
    "papermill": {
     "duration": 0.022454,
     "end_time": "2021-07-12T22:47:05.574848",
     "exception": false,
     "start_time": "2021-07-12T22:47:05.552394",
     "status": "completed"
    },
    "tags": []
   },
   "outputs": [],
   "source": [
    "# best_val_loss = float(\"inf\")\n",
    "# best_model = None\n",
    "\n",
    "# train_data = CommonLitDataset(df)\n",
    "# train_dataloader = DataLoader(train_data, batch_size = batch_size, shuffle = True)\n",
    "\n",
    "# val_data = CommonLitDataset(df)\n",
    "# val_dataloader = DataLoader(val_data, batch_size = batch_size, shuffle = True)\n",
    "\n",
    "\n",
    "# train_losses = []\n",
    "# val_losses = []\n",
    "# for epoch in range(1, epochs + 1):\n",
    "#     epoch_start_time = time.time()\n",
    "#     train_loss = train(best_val_loss)\n",
    "#     val_loss = evaluate(model)\n",
    "#     print('-' * 89)\n",
    "#     print('| end of epoch {:3d} | time: {:5.2f}s | valid loss {:5.2f} | '.format(epoch, (time.time() - epoch_start_time),val_loss))\n",
    "#     print('-' * 89)\n",
    "    \n",
    "#     if val_loss < best_val_loss:\n",
    "#         best_val_loss = val_loss\n",
    "#         best_model = model\n",
    "#         torch.save(best_model, 'bestModel')\n",
    "\n",
    "#     scheduler.step()\n",
    "#     val_losses.append(val_loss)\n",
    "#     train_losses.append(train_loss)\n",
    "    \n",
    "# #     print('Hi')\n",
    "# #     print(train_losses)\n",
    "# #     print('*' * 80)\n",
    "\n",
    "#     if epoch % 5 == 0:\n",
    "#         plt.plot(train_losses, label = \"Train_Loss\")\n",
    "#         plt.plot(val_losses, label = \"Val_Loss\")\n",
    "#         plt.show()\n",
    "    "
   ]
  },
  {
   "cell_type": "markdown",
   "id": "regulated-lloyd",
   "metadata": {
    "papermill": {
     "duration": 0.015838,
     "end_time": "2021-07-12T22:47:05.606686",
     "exception": false,
     "start_time": "2021-07-12T22:47:05.590848",
     "status": "completed"
    },
    "tags": []
   },
   "source": [
    "# Kfold validation"
   ]
  },
  {
   "cell_type": "code",
   "execution_count": 13,
   "id": "based-cornwall",
   "metadata": {
    "execution": {
     "iopub.execute_input": "2021-07-12T22:47:05.655607Z",
     "iopub.status.busy": "2021-07-12T22:47:05.655023Z",
     "iopub.status.idle": "2021-07-12T23:33:12.132223Z",
     "shell.execute_reply": "2021-07-12T23:33:12.130575Z",
     "shell.execute_reply.started": "2021-07-12T22:32:25.175783Z"
    },
    "papermill": {
     "duration": 2766.509891,
     "end_time": "2021-07-12T23:33:12.132419",
     "exception": false,
     "start_time": "2021-07-12T22:47:05.622528",
     "status": "completed"
    },
    "tags": []
   },
   "outputs": [
    {
     "name": "stdout",
     "output_type": "stream",
     "text": [
      "length of dataset is 2834\n",
      "FOLD 0\n",
      "--------------------------------\n",
      "Starting epoch 1\n"
     ]
    },
    {
     "name": "stderr",
     "output_type": "stream",
     "text": [
      "/opt/conda/lib/python3.7/site-packages/transformers/tokenization_utils_base.py:2079: FutureWarning: The `pad_to_max_length` argument is deprecated and will be removed in a future version, use `padding=True` or `padding='longest'` to pad to the longest sequence in the batch, or use `padding='max_length'` to pad to a max length. In this case, you can give a specific length with `max_length` (e.g. `max_length=45`) or leave max_length to None to pad to the maximal input size of the model (e.g. 512 for Bert).\n",
      "  FutureWarning,\n",
      "/opt/conda/lib/python3.7/site-packages/ipykernel_launcher.py:24: UserWarning: To copy construct from a tensor, it is recommended to use sourceTensor.clone().detach() or sourceTensor.clone().detach().requires_grad_(True), rather than torch.tensor(sourceTensor).\n",
      "/opt/conda/lib/python3.7/site-packages/ipykernel_launcher.py:67: UserWarning: To copy construct from a tensor, it is recommended to use sourceTensor.clone().detach() or sourceTensor.clone().detach().requires_grad_(True), rather than torch.tensor(sourceTensor).\n"
     ]
    },
    {
     "name": "stdout",
     "output_type": "stream",
     "text": [
      "-----------------------------------------------------------------------------------------\n",
      "| end of epoch   1 | time: 37.67s | valid loss  0.36 | train loss  0.69 |\n",
      "-----------------------------------------------------------------------------------------\n",
      "Starting epoch 2\n",
      "-----------------------------------------------------------------------------------------\n",
      "| end of epoch   2 | time: 37.01s | valid loss  0.30 | train loss  0.32 |\n",
      "-----------------------------------------------------------------------------------------\n",
      "Starting epoch 3\n",
      "-----------------------------------------------------------------------------------------\n",
      "| end of epoch   3 | time: 36.95s | valid loss  0.28 | train loss  0.24 |\n",
      "-----------------------------------------------------------------------------------------\n",
      "Starting epoch 4\n",
      "-----------------------------------------------------------------------------------------\n",
      "| end of epoch   4 | time: 36.87s | valid loss  0.28 | train loss  0.20 |\n",
      "-----------------------------------------------------------------------------------------\n",
      "Starting epoch 5\n",
      "-----------------------------------------------------------------------------------------\n",
      "| end of epoch   5 | time: 36.99s | valid loss  0.34 | train loss  0.16 |\n",
      "-----------------------------------------------------------------------------------------\n"
     ]
    },
    {
     "data": {
      "image/png": "[encoded data removed]",
      "text/plain": [
       "<Figure size 432x288 with 1 Axes>"
      ]
     },
     "metadata": {
      "needs_background": "light"
     },
     "output_type": "display_data"
    },
    {
     "name": "stdout",
     "output_type": "stream",
     "text": [
      "Starting epoch 6\n",
      "-----------------------------------------------------------------------------------------\n",
      "| end of epoch   6 | time: 36.94s | valid loss  0.46 | train loss  0.11 |\n",
      "-----------------------------------------------------------------------------------------\n",
      "Starting epoch 7\n",
      "-----------------------------------------------------------------------------------------\n",
      "| end of epoch   7 | time: 36.87s | valid loss  0.32 | train loss  0.09 |\n",
      "-----------------------------------------------------------------------------------------\n",
      "Starting epoch 8\n",
      "-----------------------------------------------------------------------------------------\n",
      "| end of epoch   8 | time: 36.86s | valid loss  0.38 | train loss  0.08 |\n",
      "-----------------------------------------------------------------------------------------\n",
      "Starting epoch 9\n",
      "-----------------------------------------------------------------------------------------\n",
      "| end of epoch   9 | time: 36.81s | valid loss  0.32 | train loss  0.07 |\n",
      "-----------------------------------------------------------------------------------------\n",
      "Starting epoch 10\n",
      "-----------------------------------------------------------------------------------------\n",
      "| end of epoch  10 | time: 36.71s | valid loss  0.43 | train loss  0.06 |\n",
      "-----------------------------------------------------------------------------------------\n"
     ]
    },
    {
     "data": {
      "image/png": "[encoded data removed]",
      "text/plain": [
       "<Figure size 432x288 with 1 Axes>"
      ]
     },
     "metadata": {
      "needs_background": "light"
     },
     "output_type": "display_data"
    },
    {
     "name": "stdout",
     "output_type": "stream",
     "text": [
      "Starting epoch 11\n",
      "-----------------------------------------------------------------------------------------\n",
      "| end of epoch  11 | time: 36.84s | valid loss  0.43 | train loss  0.05 |\n",
      "-----------------------------------------------------------------------------------------\n",
      "Starting epoch 12\n",
      "-----------------------------------------------------------------------------------------\n",
      "| end of epoch  12 | time: 36.84s | valid loss  0.39 | train loss  0.05 |\n",
      "-----------------------------------------------------------------------------------------\n",
      "Starting epoch 13\n",
      "-----------------------------------------------------------------------------------------\n",
      "| end of epoch  13 | time: 36.72s | valid loss  0.43 | train loss  0.05 |\n",
      "-----------------------------------------------------------------------------------------\n",
      "Starting epoch 14\n",
      "-----------------------------------------------------------------------------------------\n",
      "| end of epoch  14 | time: 36.71s | valid loss  0.45 | train loss  0.04 |\n",
      "-----------------------------------------------------------------------------------------\n",
      "Starting epoch 15\n",
      "-----------------------------------------------------------------------------------------\n",
      "| end of epoch  15 | time: 36.59s | valid loss  0.37 | train loss  0.04 |\n",
      "-----------------------------------------------------------------------------------------\n"
     ]
    },
    {
     "data": {
      "image/png": "[encoded data removed]",
      "text/plain": [
       "<Figure size 432x288 with 1 Axes>"
      ]
     },
     "metadata": {
      "needs_background": "light"
     },
     "output_type": "display_data"
    },
    {
     "name": "stdout",
     "output_type": "stream",
     "text": [
      "--------------------------------\n",
      "FOLD 1\n",
      "--------------------------------\n",
      "Starting epoch 1\n",
      "-----------------------------------------------------------------------------------------\n",
      "| end of epoch   1 | time: 36.80s | valid loss  0.33 | train loss  0.78 |\n",
      "-----------------------------------------------------------------------------------------\n",
      "Starting epoch 2\n",
      "-----------------------------------------------------------------------------------------\n",
      "| end of epoch   2 | time: 36.76s | valid loss  0.28 | train loss  0.35 |\n",
      "-----------------------------------------------------------------------------------------\n",
      "Starting epoch 3\n",
      "-----------------------------------------------------------------------------------------\n",
      "| end of epoch   3 | time: 36.89s | valid loss  0.32 | train loss  0.25 |\n",
      "-----------------------------------------------------------------------------------------\n",
      "Starting epoch 4\n",
      "-----------------------------------------------------------------------------------------\n",
      "| end of epoch   4 | time: 36.82s | valid loss  0.38 | train loss  0.17 |\n",
      "-----------------------------------------------------------------------------------------\n",
      "Starting epoch 5\n",
      "-----------------------------------------------------------------------------------------\n",
      "| end of epoch   5 | time: 36.89s | valid loss  0.32 | train loss  0.13 |\n",
      "-----------------------------------------------------------------------------------------\n"
     ]
    },
    {
     "data": {
      "image/png": "[encoded data removed]",
      "text/plain": [
       "<Figure size 432x288 with 1 Axes>"
      ]
     },
     "metadata": {
      "needs_background": "light"
     },
     "output_type": "display_data"
    },
    {
     "name": "stdout",
     "output_type": "stream",
     "text": [
      "Starting epoch 6\n",
      "-----------------------------------------------------------------------------------------\n",
      "| end of epoch   6 | time: 36.88s | valid loss  0.37 | train loss  0.12 |\n",
      "-----------------------------------------------------------------------------------------\n",
      "Starting epoch 7\n",
      "-----------------------------------------------------------------------------------------\n",
      "| end of epoch   7 | time: 36.69s | valid loss  0.38 | train loss  0.09 |\n",
      "-----------------------------------------------------------------------------------------\n",
      "Starting epoch 8\n",
      "-----------------------------------------------------------------------------------------\n",
      "| end of epoch   8 | time: 36.66s | valid loss  0.41 | train loss  0.08 |\n",
      "-----------------------------------------------------------------------------------------\n",
      "Starting epoch 9\n",
      "-----------------------------------------------------------------------------------------\n",
      "| end of epoch   9 | time: 36.94s | valid loss  0.34 | train loss  0.06 |\n",
      "-----------------------------------------------------------------------------------------\n",
      "Starting epoch 10\n",
      "-----------------------------------------------------------------------------------------\n",
      "| end of epoch  10 | time: 36.84s | valid loss  0.32 | train loss  0.06 |\n",
      "-----------------------------------------------------------------------------------------\n"
     ]
    },
    {
     "data": {
      "image/png": "[encoded data removed]",
      "text/plain": [
       "<Figure size 432x288 with 1 Axes>"
      ]
     },
     "metadata": {
      "needs_background": "light"
     },
     "output_type": "display_data"
    },
    {
     "name": "stdout",
     "output_type": "stream",
     "text": [
      "Starting epoch 11\n",
      "-----------------------------------------------------------------------------------------\n",
      "| end of epoch  11 | time: 36.73s | valid loss  0.43 | train loss  0.05 |\n",
      "-----------------------------------------------------------------------------------------\n",
      "Starting epoch 12\n",
      "-----------------------------------------------------------------------------------------\n",
      "| end of epoch  12 | time: 36.63s | valid loss  0.34 | train loss  0.04 |\n",
      "-----------------------------------------------------------------------------------------\n",
      "Starting epoch 13\n",
      "-----------------------------------------------------------------------------------------\n",
      "| end of epoch  13 | time: 36.68s | valid loss  0.34 | train loss  0.04 |\n",
      "-----------------------------------------------------------------------------------------\n",
      "Starting epoch 14\n",
      "-----------------------------------------------------------------------------------------\n",
      "| end of epoch  14 | time: 36.75s | valid loss  0.32 | train loss  0.05 |\n",
      "-----------------------------------------------------------------------------------------\n",
      "Starting epoch 15\n",
      "-----------------------------------------------------------------------------------------\n",
      "| end of epoch  15 | time: 36.67s | valid loss  0.38 | train loss  0.04 |\n",
      "-----------------------------------------------------------------------------------------\n"
     ]
    },
    {
     "data": {
      "image/png": "[encoded data removed]",
      "text/plain": [
       "<Figure size 432x288 with 1 Axes>"
      ]
     },
     "metadata": {
      "needs_background": "light"
     },
     "output_type": "display_data"
    },
    {
     "name": "stdout",
     "output_type": "stream",
     "text": [
      "--------------------------------\n",
      "FOLD 2\n",
      "--------------------------------\n",
      "Starting epoch 1\n",
      "-----------------------------------------------------------------------------------------\n",
      "| end of epoch   1 | time: 36.96s | valid loss  0.47 | train loss  0.78 |\n",
      "-----------------------------------------------------------------------------------------\n",
      "Starting epoch 2\n",
      "-----------------------------------------------------------------------------------------\n",
      "| end of epoch   2 | time: 36.85s | valid loss  0.37 | train loss  0.36 |\n",
      "-----------------------------------------------------------------------------------------\n",
      "Starting epoch 3\n",
      "-----------------------------------------------------------------------------------------\n",
      "| end of epoch   3 | time: 37.02s | valid loss  0.34 | train loss  0.26 |\n",
      "-----------------------------------------------------------------------------------------\n",
      "Starting epoch 4\n",
      "-----------------------------------------------------------------------------------------\n",
      "| end of epoch   4 | time: 36.89s | valid loss  0.28 | train loss  0.19 |\n",
      "-----------------------------------------------------------------------------------------\n",
      "Starting epoch 5\n",
      "-----------------------------------------------------------------------------------------\n",
      "| end of epoch   5 | time: 36.74s | valid loss  0.32 | train loss  0.14 |\n",
      "-----------------------------------------------------------------------------------------\n"
     ]
    },
    {
     "data": {
      "image/png": "[encoded data removed]",
      "text/plain": [
       "<Figure size 432x288 with 1 Axes>"
      ]
     },
     "metadata": {
      "needs_background": "light"
     },
     "output_type": "display_data"
    },
    {
     "name": "stdout",
     "output_type": "stream",
     "text": [
      "Starting epoch 6\n",
      "-----------------------------------------------------------------------------------------\n",
      "| end of epoch   6 | time: 37.03s | valid loss  0.36 | train loss  0.12 |\n",
      "-----------------------------------------------------------------------------------------\n",
      "Starting epoch 7\n",
      "-----------------------------------------------------------------------------------------\n",
      "| end of epoch   7 | time: 36.88s | valid loss  0.37 | train loss  0.09 |\n",
      "-----------------------------------------------------------------------------------------\n",
      "Starting epoch 8\n",
      "-----------------------------------------------------------------------------------------\n",
      "| end of epoch   8 | time: 36.99s | valid loss  0.30 | train loss  0.08 |\n",
      "-----------------------------------------------------------------------------------------\n",
      "Starting epoch 9\n",
      "-----------------------------------------------------------------------------------------\n",
      "| end of epoch   9 | time: 36.97s | valid loss  0.35 | train loss  0.07 |\n",
      "-----------------------------------------------------------------------------------------\n",
      "Starting epoch 10\n",
      "-----------------------------------------------------------------------------------------\n",
      "| end of epoch  10 | time: 36.74s | valid loss  0.33 | train loss  0.05 |\n",
      "-----------------------------------------------------------------------------------------\n"
     ]
    },
    {
     "data": {
      "image/png": "[encoded data removed]",
      "text/plain": [
       "<Figure size 432x288 with 1 Axes>"
      ]
     },
     "metadata": {
      "needs_background": "light"
     },
     "output_type": "display_data"
    },
    {
     "name": "stdout",
     "output_type": "stream",
     "text": [
      "Starting epoch 11\n",
      "-----------------------------------------------------------------------------------------\n",
      "| end of epoch  11 | time: 37.02s | valid loss  0.38 | train loss  0.06 |\n",
      "-----------------------------------------------------------------------------------------\n",
      "Starting epoch 12\n",
      "-----------------------------------------------------------------------------------------\n",
      "| end of epoch  12 | time: 37.01s | valid loss  0.34 | train loss  0.05 |\n",
      "-----------------------------------------------------------------------------------------\n",
      "Starting epoch 13\n",
      "-----------------------------------------------------------------------------------------\n",
      "| end of epoch  13 | time: 36.77s | valid loss  0.35 | train loss  0.04 |\n",
      "-----------------------------------------------------------------------------------------\n",
      "Starting epoch 14\n",
      "-----------------------------------------------------------------------------------------\n",
      "| end of epoch  14 | time: 36.85s | valid loss  0.33 | train loss  0.04 |\n",
      "-----------------------------------------------------------------------------------------\n",
      "Starting epoch 15\n",
      "-----------------------------------------------------------------------------------------\n",
      "| end of epoch  15 | time: 36.80s | valid loss  0.34 | train loss  0.04 |\n",
      "-----------------------------------------------------------------------------------------\n"
     ]
    },
    {
     "data": {
      "image/png": "[encoded data removed]",
      "text/plain": [
       "<Figure size 432x288 with 1 Axes>"
      ]
     },
     "metadata": {
      "needs_background": "light"
     },
     "output_type": "display_data"
    },
    {
     "name": "stdout",
     "output_type": "stream",
     "text": [
      "--------------------------------\n",
      "FOLD 3\n",
      "--------------------------------\n",
      "Starting epoch 1\n",
      "-----------------------------------------------------------------------------------------\n",
      "| end of epoch   1 | time: 36.96s | valid loss  0.50 | train loss  0.79 |\n",
      "-----------------------------------------------------------------------------------------\n",
      "Starting epoch 2\n",
      "-----------------------------------------------------------------------------------------\n",
      "| end of epoch   2 | time: 36.77s | valid loss  0.33 | train loss  0.34 |\n",
      "-----------------------------------------------------------------------------------------\n",
      "Starting epoch 3\n",
      "-----------------------------------------------------------------------------------------\n",
      "| end of epoch   3 | time: 36.84s | valid loss  0.42 | train loss  0.26 |\n",
      "-----------------------------------------------------------------------------------------\n",
      "Starting epoch 4\n",
      "-----------------------------------------------------------------------------------------\n",
      "| end of epoch   4 | time: 36.80s | valid loss  0.31 | train loss  0.19 |\n",
      "-----------------------------------------------------------------------------------------\n",
      "Starting epoch 5\n",
      "-----------------------------------------------------------------------------------------\n",
      "| end of epoch   5 | time: 36.80s | valid loss  0.43 | train loss  0.15 |\n",
      "-----------------------------------------------------------------------------------------\n"
     ]
    },
    {
     "data": {
      "image/png": "[encoded data removed]",
      "text/plain": [
       "<Figure size 432x288 with 1 Axes>"
      ]
     },
     "metadata": {
      "needs_background": "light"
     },
     "output_type": "display_data"
    },
    {
     "name": "stdout",
     "output_type": "stream",
     "text": [
      "Starting epoch 6\n",
      "-----------------------------------------------------------------------------------------\n",
      "| end of epoch   6 | time: 36.75s | valid loss  0.42 | train loss  0.12 |\n",
      "-----------------------------------------------------------------------------------------\n",
      "Starting epoch 7\n",
      "-----------------------------------------------------------------------------------------\n",
      "| end of epoch   7 | time: 36.77s | valid loss  0.39 | train loss  0.09 |\n",
      "-----------------------------------------------------------------------------------------\n",
      "Starting epoch 8\n",
      "-----------------------------------------------------------------------------------------\n",
      "| end of epoch   8 | time: 36.96s | valid loss  0.29 | train loss  0.08 |\n",
      "-----------------------------------------------------------------------------------------\n",
      "Starting epoch 9\n",
      "-----------------------------------------------------------------------------------------\n",
      "| end of epoch   9 | time: 36.88s | valid loss  0.31 | train loss  0.07 |\n",
      "-----------------------------------------------------------------------------------------\n",
      "Starting epoch 10\n",
      "-----------------------------------------------------------------------------------------\n",
      "| end of epoch  10 | time: 36.78s | valid loss  0.33 | train loss  0.06 |\n",
      "-----------------------------------------------------------------------------------------\n"
     ]
    },
    {
     "data": {
      "image/png": "[encoded data removed]",
      "text/plain": [
       "<Figure size 432x288 with 1 Axes>"
      ]
     },
     "metadata": {
      "needs_background": "light"
     },
     "output_type": "display_data"
    },
    {
     "name": "stdout",
     "output_type": "stream",
     "text": [
      "Starting epoch 11\n",
      "-----------------------------------------------------------------------------------------\n",
      "| end of epoch  11 | time: 36.85s | valid loss  0.35 | train loss  0.05 |\n",
      "-----------------------------------------------------------------------------------------\n",
      "Starting epoch 12\n",
      "-----------------------------------------------------------------------------------------\n",
      "| end of epoch  12 | time: 36.78s | valid loss  0.31 | train loss  0.05 |\n",
      "-----------------------------------------------------------------------------------------\n",
      "Starting epoch 13\n",
      "-----------------------------------------------------------------------------------------\n",
      "| end of epoch  13 | time: 36.83s | valid loss  0.31 | train loss  0.05 |\n",
      "-----------------------------------------------------------------------------------------\n",
      "Starting epoch 14\n",
      "-----------------------------------------------------------------------------------------\n",
      "| end of epoch  14 | time: 36.88s | valid loss  0.30 | train loss  0.04 |\n",
      "-----------------------------------------------------------------------------------------\n",
      "Starting epoch 15\n",
      "-----------------------------------------------------------------------------------------\n",
      "| end of epoch  15 | time: 36.81s | valid loss  0.32 | train loss  0.04 |\n",
      "-----------------------------------------------------------------------------------------\n"
     ]
    },
    {
     "data": {
      "image/png": "[encoded data removed]",
      "text/plain": [
       "<Figure size 432x288 with 1 Axes>"
      ]
     },
     "metadata": {
      "needs_background": "light"
     },
     "output_type": "display_data"
    },
    {
     "name": "stdout",
     "output_type": "stream",
     "text": [
      "--------------------------------\n",
      "FOLD 4\n",
      "--------------------------------\n",
      "Starting epoch 1\n",
      "-----------------------------------------------------------------------------------------\n",
      "| end of epoch   1 | time: 36.95s | valid loss  0.37 | train loss  0.88 |\n",
      "-----------------------------------------------------------------------------------------\n",
      "Starting epoch 2\n",
      "-----------------------------------------------------------------------------------------\n",
      "| end of epoch   2 | time: 36.78s | valid loss  0.30 | train loss  0.37 |\n",
      "-----------------------------------------------------------------------------------------\n",
      "Starting epoch 3\n",
      "-----------------------------------------------------------------------------------------\n",
      "| end of epoch   3 | time: 36.78s | valid loss  0.32 | train loss  0.27 |\n",
      "-----------------------------------------------------------------------------------------\n",
      "Starting epoch 4\n",
      "-----------------------------------------------------------------------------------------\n",
      "| end of epoch   4 | time: 36.72s | valid loss  0.43 | train loss  0.21 |\n",
      "-----------------------------------------------------------------------------------------\n",
      "Starting epoch 5\n",
      "-----------------------------------------------------------------------------------------\n",
      "| end of epoch   5 | time: 36.74s | valid loss  0.28 | train loss  0.14 |\n",
      "-----------------------------------------------------------------------------------------\n"
     ]
    },
    {
     "data": {
      "image/png": "[encoded data removed]",
      "text/plain": [
       "<Figure size 432x288 with 1 Axes>"
      ]
     },
     "metadata": {
      "needs_background": "light"
     },
     "output_type": "display_data"
    },
    {
     "name": "stdout",
     "output_type": "stream",
     "text": [
      "Starting epoch 6\n",
      "-----------------------------------------------------------------------------------------\n",
      "| end of epoch   6 | time: 36.78s | valid loss  0.31 | train loss  0.12 |\n",
      "-----------------------------------------------------------------------------------------\n",
      "Starting epoch 7\n",
      "-----------------------------------------------------------------------------------------\n",
      "| end of epoch   7 | time: 36.74s | valid loss  0.39 | train loss  0.09 |\n",
      "-----------------------------------------------------------------------------------------\n",
      "Starting epoch 8\n",
      "-----------------------------------------------------------------------------------------\n",
      "| end of epoch   8 | time: 36.94s | valid loss  0.36 | train loss  0.07 |\n",
      "-----------------------------------------------------------------------------------------\n",
      "Starting epoch 9\n",
      "-----------------------------------------------------------------------------------------\n",
      "| end of epoch   9 | time: 36.75s | valid loss  0.27 | train loss  0.07 |\n",
      "-----------------------------------------------------------------------------------------\n",
      "Starting epoch 10\n",
      "-----------------------------------------------------------------------------------------\n",
      "| end of epoch  10 | time: 36.86s | valid loss  0.37 | train loss  0.06 |\n",
      "-----------------------------------------------------------------------------------------\n"
     ]
    },
    {
     "data": {
      "image/png": "[encoded data removed]",
      "text/plain": [
       "<Figure size 432x288 with 1 Axes>"
      ]
     },
     "metadata": {
      "needs_background": "light"
     },
     "output_type": "display_data"
    },
    {
     "name": "stdout",
     "output_type": "stream",
     "text": [
      "Starting epoch 11\n",
      "-----------------------------------------------------------------------------------------\n",
      "| end of epoch  11 | time: 36.92s | valid loss  0.38 | train loss  0.06 |\n",
      "-----------------------------------------------------------------------------------------\n",
      "Starting epoch 12\n",
      "-----------------------------------------------------------------------------------------\n",
      "| end of epoch  12 | time: 36.78s | valid loss  0.38 | train loss  0.05 |\n",
      "-----------------------------------------------------------------------------------------\n",
      "Starting epoch 13\n",
      "-----------------------------------------------------------------------------------------\n",
      "| end of epoch  13 | time: 36.95s | valid loss  0.35 | train loss  0.05 |\n",
      "-----------------------------------------------------------------------------------------\n",
      "Starting epoch 14\n",
      "-----------------------------------------------------------------------------------------\n",
      "| end of epoch  14 | time: 36.86s | valid loss  0.31 | train loss  0.04 |\n",
      "-----------------------------------------------------------------------------------------\n",
      "Starting epoch 15\n",
      "-----------------------------------------------------------------------------------------\n",
      "| end of epoch  15 | time: 36.98s | valid loss  0.36 | train loss  0.04 |\n",
      "-----------------------------------------------------------------------------------------\n"
     ]
    },
    {
     "data": {
      "image/png": "[encoded data removed]",
      "text/plain": [
       "<Figure size 432x288 with 1 Axes>"
      ]
     },
     "metadata": {
      "needs_background": "light"
     },
     "output_type": "display_data"
    },
    {
     "name": "stdout",
     "output_type": "stream",
     "text": [
      "--------------------------------\n",
      "*****************************************************************************************\n",
      "KFold has ended!!!!!!\n",
      "validation score is 0.35385990142822266\n",
      "rmse is 0.5948612455255617\n",
      "5\n",
      "1\n",
      "[tensor(0.3576), tensor(0.3347), tensor(0.4728), tensor(0.4986), tensor(0.3671)]\n",
      "0.4061675\n",
      "2\n",
      "[tensor(0.2996), tensor(0.2828), tensor(0.3696), tensor(0.3315), tensor(0.3024)]\n",
      "0.31717938\n",
      "3\n",
      "[tensor(0.2809), tensor(0.3184), tensor(0.3412), tensor(0.4234), tensor(0.3158)]\n",
      "0.3359266\n",
      "4\n",
      "[tensor(0.2757), tensor(0.3761), tensor(0.2808), tensor(0.3072), tensor(0.4321)]\n",
      "0.33438882\n",
      "5\n",
      "[tensor(0.3416), tensor(0.3249), tensor(0.3220), tensor(0.4346), tensor(0.2772)]\n",
      "0.34007454\n",
      "6\n",
      "[tensor(0.4571), tensor(0.3734), tensor(0.3609), tensor(0.4248), tensor(0.3091)]\n",
      "0.38509458\n",
      "7\n",
      "[tensor(0.3212), tensor(0.3849), tensor(0.3691), tensor(0.3893), tensor(0.3883)]\n",
      "0.37056574\n",
      "8\n",
      "[tensor(0.3844), tensor(0.4093), tensor(0.2964), tensor(0.2909), tensor(0.3594)]\n",
      "0.34806392\n",
      "9\n",
      "[tensor(0.3174), tensor(0.3405), tensor(0.3485), tensor(0.3131), tensor(0.2655)]\n",
      "0.31700724\n",
      "10\n",
      "[tensor(0.4263), tensor(0.3185), tensor(0.3317), tensor(0.3310), tensor(0.3737)]\n",
      "0.35622144\n",
      "11\n",
      "[tensor(0.4347), tensor(0.4319), tensor(0.3774), tensor(0.3522), tensor(0.3843)]\n",
      "0.39611548\n",
      "12\n",
      "[tensor(0.3866), tensor(0.3378), tensor(0.3419), tensor(0.3085), tensor(0.3758)]\n",
      "0.35009387\n",
      "13\n",
      "[tensor(0.4302), tensor(0.3417), tensor(0.3509), tensor(0.3137), tensor(0.3513)]\n",
      "0.35756752\n",
      "14\n",
      "[tensor(0.4457), tensor(0.3187), tensor(0.3340), tensor(0.2950), tensor(0.3074)]\n",
      "0.34015074\n",
      "15\n",
      "[tensor(0.3739), tensor(0.3761), tensor(0.3411), tensor(0.3181), tensor(0.3572)]\n",
      "0.3532808\n",
      "The best average loss is 0.31700724363327026 with epoch: 9\n"
     ]
    }
   ],
   "source": [
    "# KFolds\n",
    "\n",
    "kfold = KFold(n_splits= 5 , shuffle=True)\n",
    "\n",
    "\n",
    "best_val_loss = float(\"inf\")\n",
    "best_model = None\n",
    "epoch_averages = [[] for _ in range(epochs)]\n",
    "\n",
    "\n",
    "fold_scores = []\n",
    "\n",
    "print(f'length of dataset is {len(df)}')\n",
    "\n",
    "for fold, (train_ids, val_ids) in enumerate(kfold.split(df)):\n",
    "    \n",
    "    # Print\n",
    "    print(f'FOLD {fold}')\n",
    "    print('--------------------------------')\n",
    "\n",
    "    # reset weights for the new fold\n",
    "    model.load_state_dict(torch.load('initialModel'))\n",
    "\n",
    "    \n",
    "    \n",
    "    # Sample elements randomly from a given list of ids, no replacement.\n",
    "    train_subsampler = torch.utils.data.SubsetRandomSampler(train_ids)\n",
    "    val_subsampler = torch.utils.data.SubsetRandomSampler(val_ids)\n",
    "    \n",
    "    # Define data loaders for training and testing data in this fold\n",
    "    train_loader = DataLoader(KFold_data, batch_size = batch_size, sampler = train_subsampler)\n",
    "    val_loader = DataLoader(KFold_data, batch_size = batch_size, sampler = val_subsampler)\n",
    "    \n",
    "    \n",
    "    train_losses = []\n",
    "    val_losses = []\n",
    "    \n",
    "    # Run the training loop for defined number of epochs\n",
    "    for epoch in range(1, epochs +1):\n",
    "        # Print epoch\n",
    "        print(f'Starting epoch {epoch}')\n",
    "        epoch_start_time = time.time()\n",
    "\n",
    "\n",
    "        # Set current loss value\n",
    "        current_loss = 0.0\n",
    "\n",
    "        # Iterate over the DataLoader for training data\n",
    "        train_loss = train(model)\n",
    "        val_loss = evaluate(model)\n",
    "        \n",
    "        print('-' * 89)\n",
    "        print('| end of epoch {:3d} | time: {:5.2f}s | valid loss {:5.2f} | train loss {:5.2f} |'.format(epoch, (time.time() - epoch_start_time),val_loss, train_loss))\n",
    "        print('-' * 89)\n",
    "\n",
    "#         if val_loss < best_val_loss:\n",
    "#             best_val_loss = val_loss\n",
    "#             best_model = model\n",
    "#             torch.save(best_model, 'bestModel')\n",
    "\n",
    "#         scheduler.step()\n",
    "        val_losses.append(val_loss)\n",
    "        train_losses.append(train_loss)\n",
    "        epoch_averages[epoch -1].append(val_loss)\n",
    "        if epoch % 5 == 0:\n",
    "            plt.plot(train_losses, label = \"Train_Loss\")\n",
    "            plt.plot(val_losses, label = \"Val_Loss\")\n",
    "            plt.show()\n",
    "            \n",
    "    fold_scores.append(np.mean(np.array(val_losses)))\n",
    "    scheduler.step()\n",
    "\n",
    "    \n",
    "#   # Print fold results\n",
    "#   print(f'K-FOLD CROSS VALIDATION RESULTS FOR {k_folds} FOLDS')\n",
    "    print('--------------------------------')\n",
    "#   sum = 0.0\n",
    "#   for key, value in results.items():\n",
    "#     print(f'Fold {key}: {value} %')\n",
    "#     sum += value\n",
    "#   print(f'Average: {sum/len(results.items())} %')\n",
    "\n",
    "\n",
    "print('*' * 89)\n",
    "print('KFold has ended!!!!!!')\n",
    "print(f'validation score is {np.mean(np.array(fold_scores))}')\n",
    "print(f'rmse is {np.mean(np.array(fold_scores)) ** 0.5}')\n",
    "print(len(fold_scores))\n",
    "\n",
    "\n",
    "\n",
    "best_loss = float('inf')\n",
    "best_epoch = 1\n",
    "for epoch, values in enumerate(epoch_averages):\n",
    "    print(epoch + 1)\n",
    "    print(values)\n",
    "    print(np.mean(values))\n",
    "    if np.mean(values) < best_loss:\n",
    "        best_loss = np.mean(values)\n",
    "        best_epoch = epoch + 1\n",
    "        \n",
    "print(f'The best average loss is {best_loss} with epoch: {best_epoch}')"
   ]
  },
  {
   "cell_type": "markdown",
   "id": "horizontal-friendship",
   "metadata": {
    "papermill": {
     "duration": 0.051287,
     "end_time": "2021-07-12T23:33:12.237258",
     "exception": false,
     "start_time": "2021-07-12T23:33:12.185971",
     "status": "completed"
    },
    "tags": []
   },
   "source": [
    "# Train model"
   ]
  },
  {
   "cell_type": "code",
   "execution_count": 14,
   "id": "proof-circulation",
   "metadata": {
    "execution": {
     "iopub.execute_input": "2021-07-12T23:33:12.347567Z",
     "iopub.status.busy": "2021-07-12T23:33:12.346680Z",
     "iopub.status.idle": "2021-07-12T23:39:33.172181Z",
     "shell.execute_reply": "2021-07-12T23:39:33.172828Z"
    },
    "papermill": {
     "duration": 380.884081,
     "end_time": "2021-07-12T23:39:33.173027",
     "exception": false,
     "start_time": "2021-07-12T23:33:12.288946",
     "status": "completed"
    },
    "tags": []
   },
   "outputs": [
    {
     "name": "stdout",
     "output_type": "stream",
     "text": [
      "-----------------------------------------------------------------------------------------\n",
      "Starting epoch 1\n"
     ]
    },
    {
     "name": "stderr",
     "output_type": "stream",
     "text": [
      "/opt/conda/lib/python3.7/site-packages/ipykernel_launcher.py:24: UserWarning: To copy construct from a tensor, it is recommended to use sourceTensor.clone().detach() or sourceTensor.clone().detach().requires_grad_(True), rather than torch.tensor(sourceTensor).\n"
     ]
    },
    {
     "name": "stdout",
     "output_type": "stream",
     "text": [
      "| end of epoch: 1 | time: 42.21211099624634s  | train loss: 0.7733760476112366 |\n",
      "-----------------------------------------------------------------------------------------\n",
      "-----------------------------------------------------------------------------------------\n",
      "Starting epoch 2\n",
      "| end of epoch: 2 | time: 42.218443632125854s  | train loss: 0.3392130732536316 |\n",
      "-----------------------------------------------------------------------------------------\n",
      "-----------------------------------------------------------------------------------------\n",
      "Starting epoch 3\n",
      "| end of epoch: 3 | time: 42.31486701965332s  | train loss: 0.24833659827709198 |\n",
      "-----------------------------------------------------------------------------------------\n",
      "-----------------------------------------------------------------------------------------\n",
      "Starting epoch 4\n",
      "| end of epoch: 4 | time: 42.403817892074585s  | train loss: 0.17863254249095917 |\n",
      "-----------------------------------------------------------------------------------------\n",
      "-----------------------------------------------------------------------------------------\n",
      "Starting epoch 5\n",
      "| end of epoch: 5 | time: 42.38713192939758s  | train loss: 0.13814032077789307 |\n",
      "-----------------------------------------------------------------------------------------\n",
      "-----------------------------------------------------------------------------------------\n",
      "Starting epoch 6\n",
      "| end of epoch: 6 | time: 42.296067237854004s  | train loss: 0.11069750040769577 |\n",
      "-----------------------------------------------------------------------------------------\n",
      "-----------------------------------------------------------------------------------------\n",
      "Starting epoch 7\n",
      "| end of epoch: 7 | time: 42.4105429649353s  | train loss: 0.08917072415351868 |\n",
      "-----------------------------------------------------------------------------------------\n",
      "-----------------------------------------------------------------------------------------\n",
      "Starting epoch 8\n",
      "| end of epoch: 8 | time: 42.2068829536438s  | train loss: 0.06714323908090591 |\n",
      "-----------------------------------------------------------------------------------------\n",
      "-----------------------------------------------------------------------------------------\n",
      "Starting epoch 9\n",
      "| end of epoch: 9 | time: 42.101518392562866s  | train loss: 0.06536378711462021 |\n",
      "-----------------------------------------------------------------------------------------\n"
     ]
    }
   ],
   "source": [
    "train_data = CommonLitDataset(df)\n",
    "train_loader = DataLoader(train_data, batch_size = batch_size, shuffle = True)\n",
    "\n",
    "\n",
    "model.load_state_dict(torch.load('initialModel'))\n",
    "\n",
    "for epoch in range(1, best_epoch + 1):\n",
    "# for epoch in range(1, 8 + 1):\n",
    "        print('-' * 89)\n",
    "        print(f'Starting epoch {epoch}')\n",
    "        epoch_start_time = time.time()\n",
    "        train_loss = train(model)\n",
    "        print(f'| end of epoch: {epoch} | time: {time.time() - epoch_start_time}s  | train loss: {train_loss} |')\n",
    "        print('-' * 89)"
   ]
  },
  {
   "cell_type": "markdown",
   "id": "ideal-stationery",
   "metadata": {
    "papermill": {
     "duration": 0.054559,
     "end_time": "2021-07-12T23:39:33.283709",
     "exception": false,
     "start_time": "2021-07-12T23:39:33.229150",
     "status": "completed"
    },
    "tags": []
   },
   "source": [
    "# Save Model for inference"
   ]
  },
  {
   "cell_type": "code",
   "execution_count": 15,
   "id": "satisfactory-danger",
   "metadata": {
    "execution": {
     "iopub.execute_input": "2021-07-12T23:39:33.407751Z",
     "iopub.status.busy": "2021-07-12T23:39:33.406844Z",
     "iopub.status.idle": "2021-07-12T23:39:34.514729Z",
     "shell.execute_reply": "2021-07-12T23:39:34.514209Z"
    },
    "papermill": {
     "duration": 1.175548,
     "end_time": "2021-07-12T23:39:34.514861",
     "exception": false,
     "start_time": "2021-07-12T23:39:33.339313",
     "status": "completed"
    },
    "tags": []
   },
   "outputs": [],
   "source": [
    "torch.save(model, 'bestModel')"
   ]
  }
 ],
 "metadata": {
  "kernelspec": {
   "display_name": "Python 3",
   "language": "python",
   "name": "python3"
  },
  "language_info": {
   "codemirror_mode": {
    "name": "ipython",
    "version": 3
   },
   "file_extension": ".py",
   "mimetype": "text/x-python",
   "name": "python",
   "nbconvert_exporter": "python",
   "pygments_lexer": "ipython3",
   "version": "3.7.10"
  },
  "papermill": {
   "default_parameters": {},
   "duration": 3174.654077,
   "end_time": "2021-07-12T23:39:36.106445",
   "environment_variables": {},
   "exception": null,
   "input_path": "__notebook__.ipynb",
   "output_path": "__notebook__.ipynb",
   "parameters": {},
   "start_time": "2021-07-12T22:46:41.452368",
   "version": "2.3.3"
  }
 },
 "nbformat": 4,
 "nbformat_minor": 5
}
